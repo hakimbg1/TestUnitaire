{
 "cells": [
  {
   "attachments": {},
   "cell_type": "markdown",
   "metadata": {
    "pycharm": {
     "name": "#%% md\n"
    }
   },
   "source": [
    "# POO : HomeWork Python"
   ]
  },
  {
   "attachments": {},
   "cell_type": "markdown",
   "metadata": {},
   "source": [
    "Exercice 1 :"
   ]
  },
  {
   "cell_type": "code",
   "execution_count": 4,
   "metadata": {
    "pycharm": {
     "name": "#%%\n"
    }
   },
   "outputs": [
    {
     "name": "stdout",
     "output_type": "stream",
     "text": [
      "5\n"
     ]
    }
   ],
   "source": [
    "class Calculator:\n",
    "    def add(x, y):\n",
    "        return x + y\n",
    "\n",
    "    def subtract(x, y):\n",
    "        return x - y\n",
    "\n",
    "    def multiply(x, y):\n",
    "        return x * y\n",
    "\n",
    "    def divide(x, y):\n",
    "        return x / y\n",
    "\n",
    "    def power(x, y):\n",
    "        result = 1\n",
    "        for i in range(y):\n",
    "            result *= x\n",
    "        return result\n",
    "\n",
    "    def square_root(x):\n",
    "        if x == 0 or x == 1:\n",
    "            return x\n",
    "        val = x\n",
    "        precision = 0.0000001\n",
    "        while abs(val - x / val) > precision:\n",
    "            val = (val + x / val) / 2\n",
    "\n",
    "        return val\n",
    "\n",
    "\n",
    "def calculate(operation, x, y):\n",
    "    if operation == \"add\":\n",
    "        result = Calculator.add(x,y)\n",
    "    elif operation == \"substract\":\n",
    "        result = Calculator.subtract(x,y)\n",
    "    elif operation == \"multiply\":\n",
    "        result = Calculator.multiply(x,y)\n",
    "    elif operation == \"divide\":\n",
    "        result = Calculator.divide(x,y)\n",
    "    elif operation == \"power\":\n",
    "        result = Calculator.power(x,y)\n",
    "    elif operation == \"square_root\":\n",
    "        result = Calculator.square_root(x)\n",
    "    return result\n",
    "\n",
    "operation = input(\"Enter the operation you would like to perform (add, subtract, multiply, divide, square_root, power): \")\n",
    "num1 = int(input(\"Enter the First number : \"))\n",
    "num2 = int(input(\"Enter the secod number : \"))\n",
    "\n",
    "print(calculate(operation, num1, num2))"
   ]
  },
  {
   "attachments": {},
   "cell_type": "markdown",
   "metadata": {
    "pycharm": {
     "name": "#%% md\n"
    }
   },
   "source": [
    "#### Correction Exercice 1"
   ]
  },
  {
   "cell_type": "code",
   "execution_count": null,
   "metadata": {
    "pycharm": {
     "name": "#%%\n"
    }
   },
   "outputs": [],
   "source": [
    "import unittest\n",
    "\n",
    "class TestCalculator(unittest.TestCase):\n",
    "    def utest_add(self):\n",
    "        self.assertEqual(Calculator.add(1, 2), 3)\n",
    "        self.assertEqual(Calculator.add(-1, 2), 1)\n",
    "        self.assertEqual(Calculator.add(1, -2), -1)\n",
    "\n",
    "    def utest_subtract(self):\n",
    "        self.assertEqual(Calculator.subtract(1, 2), -1)\n",
    "        self.assertEqual(Calculator.subtract(-1, 2), -3)\n",
    "        self.assertEqual(Calculator.subtract(1, -2), 3)\n",
    "\n",
    "    def utest_multiply(self):\n",
    "        self.assertEqual(Calculator.multiply(1, 2), 2)\n",
    "        self.assertEqual(Calculator.multiply(-1, 2), -2)\n",
    "        self.assertEqual(Calculator.multiply(1, -2), -2)\n",
    "\n",
    "    def utest_divide(self):\n",
    "        self.assertEqual(Calculator.divide(1, 2), 0.5)\n",
    "        self.assertEqual(Calculator.divide(-1, 2), -0.5)\n",
    "        self.assertEqual(Calculator.divide(1, -2), -0.5)\n",
    "        with self.assertRaises(ZeroDivisionError):\n",
    "            Calculator.divide(1, 0)\n",
    "\n",
    "    def utest_power(self):\n",
    "        self.assertEqual(Calculator.power(2, 3), 8)\n",
    "        self.assertEqual(Calculator.power(-2, 3), -8)\n",
    "        self.assertEqual(Calculator.power(2, 0), 1)\n",
    "\n",
    "    def utest_square_root(self):\n",
    "        self.assertEqual(Calculator.square_root(4), 2)\n",
    "        self.assertEqual(Calculator.square_root(0), 0)\n",
    "        self.assertEqual(Calculator.square_root(1), 1)\n",
    "        with self.assertRaises(ValueError):\n",
    "            Calculator.square_root(-1)\n",
    "\n",
    "if __name__ == '__main__':\n",
    "    unittest.main()"
   ]
  },
  {
   "attachments": {},
   "cell_type": "markdown",
   "metadata": {},
   "source": [
    "Correction to handle the Error"
   ]
  },
  {
   "cell_type": "code",
   "execution_count": 16,
   "metadata": {},
   "outputs": [
    {
     "name": "stdout",
     "output_type": "stream",
     "text": [
      "2.000000000000002\n"
     ]
    }
   ],
   "source": [
    "class Calculator:\n",
    "    def add(x, y):\n",
    "        return x + y\n",
    "\n",
    "    def subtract(x, y):\n",
    "        return x - y\n",
    "\n",
    "    def multiply(x, y):\n",
    "        return x * y\n",
    "\n",
    "    def divide(x, y):\n",
    "        # Correction: Vérifier que y n'est pas égal à zéro avant de diviser.\n",
    "        if y == 0:\n",
    "            raise ValueError(\"on peut pas diviser par 0 !\")\n",
    "        return x / y\n",
    "\n",
    "    def power(x, y):\n",
    "        result = 1\n",
    "        for i in range(y):\n",
    "            result *= x\n",
    "        return result\n",
    "\n",
    "    def square_root(x):\n",
    "        # Correction: Vérifier que x est un nombre positif.\n",
    "        if x < 0:\n",
    "            raise ValueError(\"Veillez rentrer un nombre positif\")\n",
    "        if x == 0 or x == 1:\n",
    "            return x\n",
    "        val = x\n",
    "        precision = 0.0000001\n",
    "        while abs(val - x / val) > precision:\n",
    "            val = (val + x / val) / 2\n",
    "        return val\n",
    "\n",
    "def calculate(operation, x, y):  \n",
    "   # Correction: Vérifier que l'operation rentre bien dans les choix suggérer\n",
    "    if operation not in [\"add\", \"subtract\", \"multiply\", \"divide\", \"power\", \"square_root\"]:\n",
    "        raise ValueError(\"Operation pas disponible\")\n",
    "    if operation == \"add\":\n",
    "        result = Calculator.add(x, y)\n",
    "    elif operation == \"subtract\":\n",
    "        result = Calculator.subtract(x, y)\n",
    "    elif operation == \"multiply\":\n",
    "        result = Calculator.multiply(x, y)\n",
    "    elif operation == \"divide\":\n",
    "        result = Calculator.divide(x, y)\n",
    "    elif operation == \"power\":\n",
    "        result = Calculator.power(x, y)\n",
    "    elif operation == \"square_root\":\n",
    "        result = Calculator.square_root(x)\n",
    "    return result\n",
    "    \n",
    "operation = input(\"Enter the operation you would like to perform (add, subtract, multiply, divide, square_root, power): \")\n",
    "num1 = int(input(\"Enter the First number : \"))\n",
    "num2 = int(input(\"Enter the secod number : \"))\n",
    "\n",
    "print(calculate(operation, num1, num2))"
   ]
  },
  {
   "attachments": {},
   "cell_type": "markdown",
   "metadata": {},
   "source": [
    "Exercice 2 :"
   ]
  },
  {
   "cell_type": "code",
   "execution_count": 15,
   "metadata": {},
   "outputs": [
    {
     "name": "stdout",
     "output_type": "stream",
     "text": [
      "To Kill a Mockingbird by Harper Lee has been added to the library.\n",
      "Pride and Prejudice by Jane Austen has been added to the library.\n",
      "To Kill a Mockingbird by Harper Lee has been checked out.\n",
      "Pride and Prejudice by Jane Austen has been checked out.\n",
      "Sorry, To Kill a Mockingbird is not available.\n",
      "To Kill a Mockingbird by Harper Lee has been checked in.\n",
      "Sorry, To Kill a Mockingbird is not checked out.\n"
     ]
    }
   ],
   "source": [
    "class Book:\n",
    "    def __init__(self, title, author):\n",
    "        self.title = title\n",
    "        self.author = author\n",
    "        self.is_checked_out = False\n",
    "        \n",
    "    def check_out(self):\n",
    "        self.is_checked_out = True\n",
    "        print(f\"{self.title} by {self.author} has been checked out.\")\n",
    "        \n",
    "    def check_in(self):\n",
    "        self.is_checked_out = False\n",
    "        print(f\"{self.title} by {self.author} has been checked in.\")\n",
    "        \n",
    "        \n",
    "class Library:\n",
    "    def __init__(self):\n",
    "        self.books = []\n",
    "        \n",
    "    def add_book(self, book):\n",
    "        self.books.append(book)\n",
    "        print(f\"{book.title} by {book.author} has been added to the library.\")\n",
    "        \n",
    "    def check_out_book(self, title):\n",
    "        for book in self.books:\n",
    "            if book.title == title and not book.is_checked_out:\n",
    "                book.check_out()\n",
    "                return\n",
    "        print(f\"Sorry, {title} is not available.\")\n",
    "        \n",
    "    def check_in_book(self, title):\n",
    "        for book in self.books:\n",
    "            if book.title == title and book.is_checked_out:\n",
    "                book.check_in()\n",
    "                return\n",
    "        print(f\"Sorry, {title} is not in the library.\")\n",
    "        \n",
    "        \n",
    "class Client:\n",
    "    def __init__(self, name):\n",
    "        self.name = name\n",
    "        self.checked_out_books = []\n",
    "        \n",
    "    def check_out_book(self, library, title):\n",
    "        for book in library.books:\n",
    "            if book.title == title and not book.is_checked_out:\n",
    "                book.check_out()\n",
    "                self.checked_out_books.append(book)\n",
    "                return\n",
    "        print(f\"Sorry, {title} is not available.\")\n",
    "        \n",
    "    def check_in_book(self, library, title):\n",
    "        for book in self.checked_out_books:\n",
    "            if book.title == title:\n",
    "                book.check_in()\n",
    "                self.checked_out_books.remove(book)\n",
    "                return\n",
    "        print(f\"Sorry, {title} is not checked out.\")\n",
    "        \n",
    "library = Library()\n",
    "\n",
    "book1 = Book(\"To Kill a Mockingbird\", \"Harper Lee\")\n",
    "library.add_book(book1)\n",
    "\n",
    "book2 = Book(\"Pride and Prejudice\", \"Jane Austen\")\n",
    "library.add_book(book2)\n",
    "\n",
    "\n",
    "client1 = Client(\"John Doe\")\n",
    "client1.check_out_book(library, \"To Kill a Mockingbird\")\n",
    "client1.check_out_book(library, \"Pride and Prejudice\")\n",
    "\n",
    "\n",
    "client2 = Client(\"Jane Doe\")\n",
    "client2.check_out_book(library, \"To Kill a Mockingbird\")\n",
    "client1.check_in_book(library, \"To Kill a Mockingbird\")"
   ]
  },
  {
   "cell_type": "code",
   "execution_count": null,
   "metadata": {},
   "outputs": [],
   "source": [
    "import unittest\n",
    "\n",
    "class TestBook(unittest.TestCase):\n",
    "    def setUp(self):\n",
    "        self.book = Book(\"To Kill a Mockingbird\", \"Harper Lee\")\n",
    "        \n",
    "    def test_check_out(self):\n",
    "        self.book.check_out()\n",
    "        self.assertTrue(self.book.is_checked_out)\n",
    "        \n",
    "    def test_check_in(self):\n",
    "        self.book.check_out()\n",
    "        self.book.check_in()\n",
    "        self.assertFalse(self.book.is_checked_out)\n",
    "        \n",
    "        \n",
    "class TestLibrary(unittest.TestCase):\n",
    "    def setUp(self):\n",
    "        self.library = Library()\n",
    "        self.book1 = Book(\"To Kill a Mockingbird\", \"Harper Lee\")\n",
    "        self.book2 = Book(\"Pride and Prejudice\", \"Jane Austen\")\n",
    "        self.library.add_book(self.book1)\n",
    "        self.library.add_book(self.book2)\n",
    "        \n",
    "    def test_add_book(self):\n",
    "        self.assertEqual(len(self.library.books), 2)\n",
    "        self.assertIn(self.book1, self.library.books)\n",
    "        self.assertIn(self.book2, self.library.books)\n",
    "        \n",
    "    def test_check_out_book(self):\n",
    "        self.library.check_out_book(\"To Kill a Mockingbird\")\n",
    "        self.assertTrue(self.book1.is_checked_out)\n",
    "        self.library.check_out_book(\"Pride and Prejudice\")\n",
    "        self.assertTrue(self.book2.is_checked_out)\n",
    "        self.library.check_out_book(\"Pride and Prejudice\")\n",
    "        self.assertEqual(self.library.books[1].is_checked_out, True)\n",
    "        \n",
    "    def test_check_in_book(self):\n",
    "        self.library.check_out_book(\"To Kill a Mockingbird\")\n",
    "        self.library.check_in_book(\"To Kill a Mockingbird\")\n",
    "        self.assertFalse(self.book1.is_checked_out)\n",
    "        self.library.check_in_book(\"Pride and Prejudice\")\n",
    "        self.assertFalse(self.book2.is_checked_out)\n",
    "\n",
    "\n",
    "class TestClient(unittest.TestCase):\n",
    "    def setUp(self):\n",
    "        self.library = Library()\n",
    "        self.book1 = Book(\"To Kill a Mockingbird\", \"Harper Lee\")\n",
    "        self.library.add_book(self.book1)\n",
    "        self.book2 = Book(\"Pride and Prejudice\", \"Jane Austen\")\n",
    "        self.library.add_book(self.book2)\n",
    "        self.client = Client(\"John Doe\")\n",
    "        \n",
    "    def test_check_out_book(self):\n",
    "        self.client.check_out_book(self.library, \"To Kill a Mockingbird\")\n",
    "        self.assertIn(self.book1, self.client.checked_out_books)\n",
    "        self.assertTrue(self.book1.is_checked_out)\n",
    "        self.client.check_out_book(self.library, \"Pride and Prejudice\")\n",
    "        self.assertIn(self.book2, self.client.checked_out_books)\n",
    "        self.assertTrue(self.book2.is_checked_out)\n",
    "        self.client.check_out_book(self.library, \"To Kill a Mockingbird\")\n",
    "        self.assertEqual(len(self.client.checked_out_books), 2)\n",
    "        \n",
    "    def test_check_in_book(self):\n",
    "        self.client.check_out_book(self.library, \"To Kill a Mockingbird\")\n",
    "        self.client.check_in_book(self.library, \"To Kill a Mockingbird\")\n",
    "        self.assertNotIn(self.book1, self.client.checked_out_books)\n",
    "        self.assertFalse(self.book1.is_checked_out)\n",
    "        self.client.check_in_book(self.library, \"To Kill a Mockingbird\")\n",
    "        self.assertEqual(len(self.client.checked_out_books), 0)\n",
    "        \n",
    "if __name__ == '__main__':\n",
    "    unittest.main()"
   ]
  },
  {
   "attachments": {},
   "cell_type": "markdown",
   "metadata": {},
   "source": [
    "Le code semble gerer les cas proprement toutefois y'a certains cas qu'il faut revoir par l'ajout de d'autre methode :\n",
    "1er cas : Gestion des doublons (entrer plusieur livre de meme titre)\n",
    "2eme cas : Emprunts multiples"
   ]
  }
 ],
 "metadata": {
  "kernelspec": {
   "display_name": "Python 3",
   "language": "python",
   "name": "python3"
  },
  "language_info": {
   "codemirror_mode": {
    "name": "ipython",
    "version": 3
   },
   "file_extension": ".py",
   "mimetype": "text/x-python",
   "name": "python",
   "nbconvert_exporter": "python",
   "pygments_lexer": "ipython3",
   "version": "3.11.1"
  },
  "varInspector": {
   "cols": {
    "lenName": 16,
    "lenType": 16,
    "lenVar": 40
   },
   "kernels_config": {
    "python": {
     "delete_cmd_postfix": "",
     "delete_cmd_prefix": "del ",
     "library": "var_list.py",
     "varRefreshCmd": "print(var_dic_list())"
    },
    "r": {
     "delete_cmd_postfix": ") ",
     "delete_cmd_prefix": "rm(",
     "library": "var_list.r",
     "varRefreshCmd": "cat(var_dic_list()) "
    }
   },
   "types_to_exclude": [
    "module",
    "function",
    "builtin_function_or_method",
    "instance",
    "_Feature"
   ],
   "window_display": false
  },
  "vscode": {
   "interpreter": {
    "hash": "9f90c6e1ef066e5a3efe4f0f0c582416223f4fa975e5469f687da6dfedcfcbed"
   }
  }
 },
 "nbformat": 4,
 "nbformat_minor": 2
}
